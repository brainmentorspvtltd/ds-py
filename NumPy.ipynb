{
 "cells": [
  {
   "cell_type": "code",
   "execution_count": 16,
   "id": "66f8a5a9-4678-40f7-9ce4-eb56b4d03c65",
   "metadata": {
    "tags": []
   },
   "outputs": [],
   "source": [
    "import numpy as np\n",
    "import sys ,time"
   ]
  },
  {
   "cell_type": "code",
   "execution_count": 17,
   "id": "2e503fc2-9891-4100-a113-8c15b632f9a1",
   "metadata": {
    "tags": []
   },
   "outputs": [],
   "source": [
    "arr = np.array([23,41,15,65,80])"
   ]
  },
  {
   "cell_type": "code",
   "execution_count": 18,
   "id": "7e21e9bf-e426-47e5-9ba5-5faa12c26fa0",
   "metadata": {
    "tags": []
   },
   "outputs": [
    {
     "data": {
      "text/plain": [
       "array([23, 41, 15, 65, 80])"
      ]
     },
     "execution_count": 18,
     "metadata": {},
     "output_type": "execute_result"
    }
   ],
   "source": [
    "arr"
   ]
  },
  {
   "cell_type": "code",
   "execution_count": 19,
   "id": "31a3e1f8-3e52-4233-b934-6894dc025a17",
   "metadata": {
    "tags": []
   },
   "outputs": [],
   "source": [
    "x = np.array([[1,2,3],[4,5,6],[7,8,9]])"
   ]
  },
  {
   "cell_type": "code",
   "execution_count": 20,
   "id": "cd5c8f0e-a6be-44ed-b36c-b106884e5efc",
   "metadata": {
    "tags": []
   },
   "outputs": [
    {
     "data": {
      "text/plain": [
       "array([[1, 2, 3],\n",
       "       [4, 5, 6],\n",
       "       [7, 8, 9]])"
      ]
     },
     "execution_count": 20,
     "metadata": {},
     "output_type": "execute_result"
    }
   ],
   "source": [
    "x"
   ]
  },
  {
   "cell_type": "code",
   "execution_count": 21,
   "id": "1cb18835-f900-4035-bf3d-315519cd01cd",
   "metadata": {
    "tags": []
   },
   "outputs": [
    {
     "data": {
      "text/plain": [
       "array([[ 6,  7,  8],\n",
       "       [ 9, 10, 11],\n",
       "       [12, 13, 14]])"
      ]
     },
     "execution_count": 21,
     "metadata": {},
     "output_type": "execute_result"
    }
   ],
   "source": [
    "x + 5"
   ]
  },
  {
   "cell_type": "code",
   "execution_count": 22,
   "id": "3e1ab47e-7092-4bac-bff7-328d5b79ebfb",
   "metadata": {
    "tags": []
   },
   "outputs": [
    {
     "data": {
      "text/plain": [
       "array([1, 2, 3, 4, 5, 6, 7, 8, 9])"
      ]
     },
     "execution_count": 22,
     "metadata": {},
     "output_type": "execute_result"
    }
   ],
   "source": [
    "np.arange(1,10)"
   ]
  },
  {
   "cell_type": "code",
   "execution_count": 23,
   "id": "0cc56609-7592-4a1c-8aae-d8dd8eeb035e",
   "metadata": {
    "tags": []
   },
   "outputs": [],
   "source": [
    "y = np.arange(1,11,3)"
   ]
  },
  {
   "cell_type": "code",
   "execution_count": 24,
   "id": "2d3b8364-fa22-4b73-807a-67836a2efd42",
   "metadata": {
    "tags": []
   },
   "outputs": [
    {
     "data": {
      "text/plain": [
       "array([ 1,  4,  7, 10])"
      ]
     },
     "execution_count": 24,
     "metadata": {},
     "output_type": "execute_result"
    }
   ],
   "source": [
    "y"
   ]
  },
  {
   "cell_type": "code",
   "execution_count": 25,
   "id": "43d8fd1a-e39b-4493-bb18-b95cde2408ca",
   "metadata": {
    "tags": []
   },
   "outputs": [
    {
     "data": {
      "text/plain": [
       "array([ 1.,  3.,  5.,  7.,  9., 11., 13.], dtype=float32)"
      ]
     },
     "execution_count": 25,
     "metadata": {},
     "output_type": "execute_result"
    }
   ],
   "source": [
    "np.arange(1,15,2,dtype = 'float32')"
   ]
  },
  {
   "cell_type": "code",
   "execution_count": 26,
   "id": "f456986f-2ddd-47e8-80b9-101b005801ce",
   "metadata": {
    "tags": []
   },
   "outputs": [
    {
     "ename": "TypeError",
     "evalue": "data type 'float8' not understood",
     "output_type": "error",
     "traceback": [
      "\u001b[1;31m---------------------------------------------------------------------------\u001b[0m",
      "\u001b[1;31mTypeError\u001b[0m                                 Traceback (most recent call last)",
      "Cell \u001b[1;32mIn[26], line 1\u001b[0m\n\u001b[1;32m----> 1\u001b[0m np\u001b[38;5;241m.\u001b[39marange(\u001b[38;5;241m1\u001b[39m,\u001b[38;5;241m15\u001b[39m,\u001b[38;5;241m2\u001b[39m,dtype \u001b[38;5;241m=\u001b[39m \u001b[38;5;124m'\u001b[39m\u001b[38;5;124mfloat8\u001b[39m\u001b[38;5;124m'\u001b[39m)\n",
      "\u001b[1;31mTypeError\u001b[0m: data type 'float8' not understood"
     ]
    }
   ],
   "source": [
    "np.arange(1,15,2,dtype = 'float8')"
   ]
  },
  {
   "cell_type": "code",
   "execution_count": null,
   "id": "f32e49a4-ac7d-4359-8810-1eb60a9139f7",
   "metadata": {
    "tags": []
   },
   "outputs": [],
   "source": [
    "list_1 = [2,3,6,5]\n",
    "x = np.array([4,5,6,7])"
   ]
  },
  {
   "cell_type": "code",
   "execution_count": 27,
   "id": "a465ea89-c731-424c-a683-474059bde7e6",
   "metadata": {
    "tags": []
   },
   "outputs": [
    {
     "data": {
      "text/plain": [
       "56"
      ]
     },
     "execution_count": 27,
     "metadata": {},
     "output_type": "execute_result"
    }
   ],
   "source": [
    "sys.getsizeof([])"
   ]
  },
  {
   "cell_type": "code",
   "execution_count": 28,
   "id": "8b25e8da-ce5b-4554-841e-465c34973f02",
   "metadata": {
    "tags": []
   },
   "outputs": [],
   "source": [
    "y = np.array([])"
   ]
  },
  {
   "cell_type": "code",
   "execution_count": 30,
   "id": "8cc168f7-5ae2-403a-be59-07349d4dd98f",
   "metadata": {
    "tags": []
   },
   "outputs": [
    {
     "data": {
      "text/plain": [
       "112"
      ]
     },
     "execution_count": 30,
     "metadata": {},
     "output_type": "execute_result"
    }
   ],
   "source": [
    "sys.getsizeof(np.array([]))"
   ]
  },
  {
   "cell_type": "code",
   "execution_count": 31,
   "id": "0fa4b5e4-658f-4c59-b489-724f3b441958",
   "metadata": {
    "tags": []
   },
   "outputs": [
    {
     "data": {
      "text/plain": [
       "72"
      ]
     },
     "execution_count": 31,
     "metadata": {},
     "output_type": "execute_result"
    }
   ],
   "source": [
    "sys.getsizeof([1,2])"
   ]
  },
  {
   "cell_type": "code",
   "execution_count": 32,
   "id": "468736ab-0dd7-463d-a747-745484831a83",
   "metadata": {
    "tags": []
   },
   "outputs": [
    {
     "data": {
      "text/plain": [
       "120"
      ]
     },
     "execution_count": 32,
     "metadata": {},
     "output_type": "execute_result"
    }
   ],
   "source": [
    "sys.getsizeof(np.array([1,2]))"
   ]
  },
  {
   "cell_type": "code",
   "execution_count": 33,
   "id": "955294c6-4776-4883-8f14-819634f46f67",
   "metadata": {
    "tags": []
   },
   "outputs": [
    {
     "data": {
      "text/plain": [
       "160"
      ]
     },
     "execution_count": 33,
     "metadata": {},
     "output_type": "execute_result"
    }
   ],
   "source": [
    "sys.getsizeof(np.array([1,2,3,4,6,7,8,9,5,6,2,4]))"
   ]
  },
  {
   "cell_type": "code",
   "execution_count": 34,
   "id": "f662b648-3ddc-48aa-b7a7-9c9ebcc80d38",
   "metadata": {
    "tags": []
   },
   "outputs": [
    {
     "data": {
      "text/plain": [
       "152"
      ]
     },
     "execution_count": 34,
     "metadata": {},
     "output_type": "execute_result"
    }
   ],
   "source": [
    "sys.getsizeof([1,2,3,4,6,7,8,9,5,6,2,4])"
   ]
  },
  {
   "cell_type": "code",
   "execution_count": 41,
   "id": "b71449ec-2aac-40af-8070-77a62ffd0ffc",
   "metadata": {
    "tags": []
   },
   "outputs": [
    {
     "name": "stdout",
     "output_type": "stream",
     "text": [
      "total time taken is: 2.539013624191284\n"
     ]
    }
   ],
   "source": [
    "list_1 = list(range(10000000))\n",
    "list_2 = list(range(10000000))\n",
    "lists_3 = []\n",
    "start = time.time()\n",
    "\n",
    "\n",
    "for i in range(len(list_1)):\n",
    "    lists_3.append(list_1[i] + list_2[i])\n",
    "    \n",
    "end = time.time()\n",
    "\n",
    "total = end - start\n",
    "\n",
    "print(\"total time taken is:\",total)"
   ]
  },
  {
   "cell_type": "code",
   "execution_count": 42,
   "id": "3a57a1c3-e850-4c66-a318-d69354b21273",
   "metadata": {
    "tags": []
   },
   "outputs": [
    {
     "name": "stdout",
     "output_type": "stream",
     "text": [
      "total time taken by array is: 0.01772165298461914\n"
     ]
    }
   ],
   "source": [
    "arr_1 = np.array(list_1)\n",
    "arr_2 = np.array(list_2)\n",
    "\n",
    "start = time.time()\n",
    "\n",
    "arr_3 = arr_1 + arr_2\n",
    "\n",
    "end = time.time()\n",
    "total = end - start\n",
    "print(\"total time taken by array is:\",total)"
   ]
  },
  {
   "cell_type": "code",
   "execution_count": 45,
   "id": "c68e3bc9-8ddf-4f67-8827-08dbef51f111",
   "metadata": {
    "tags": []
   },
   "outputs": [
    {
     "data": {
      "text/plain": [
       "(array([ 2. ,  3.8,  5.6,  7.4,  9.2, 11. , 12.8, 14.6, 16.4, 18.2, 20. ]),\n",
       " 1.8)"
      ]
     },
     "execution_count": 45,
     "metadata": {},
     "output_type": "execute_result"
    }
   ],
   "source": [
    "np.linspace(2,20,num = 11,retstep = True)"
   ]
  },
  {
   "cell_type": "code",
   "execution_count": 46,
   "id": "c45abf7a-5950-46c7-8c39-b88f86e3e3b5",
   "metadata": {
    "tags": []
   },
   "outputs": [
    {
     "data": {
      "text/plain": [
       "array([0., 0., 0., 0., 0.])"
      ]
     },
     "execution_count": 46,
     "metadata": {},
     "output_type": "execute_result"
    }
   ],
   "source": [
    "np.zeros(5)"
   ]
  },
  {
   "cell_type": "code",
   "execution_count": 47,
   "id": "b5c32db8-57b2-4ea7-8edd-7342d14b2cfb",
   "metadata": {
    "tags": []
   },
   "outputs": [
    {
     "data": {
      "text/plain": [
       "array([[0., 0., 0.],\n",
       "       [0., 0., 0.],\n",
       "       [0., 0., 0.]])"
      ]
     },
     "execution_count": 47,
     "metadata": {},
     "output_type": "execute_result"
    }
   ],
   "source": [
    "np.zeros([3,3])"
   ]
  },
  {
   "cell_type": "code",
   "execution_count": 48,
   "id": "b9426145-6181-4c8a-8588-8962968f83ed",
   "metadata": {
    "tags": []
   },
   "outputs": [
    {
     "data": {
      "text/plain": [
       "array([1., 1., 1., 1., 1.])"
      ]
     },
     "execution_count": 48,
     "metadata": {},
     "output_type": "execute_result"
    }
   ],
   "source": [
    "np.ones(5)"
   ]
  },
  {
   "cell_type": "code",
   "execution_count": 49,
   "id": "dfc73df6-d571-4b55-a68f-74ad4769a311",
   "metadata": {
    "tags": []
   },
   "outputs": [
    {
     "data": {
      "text/plain": [
       "array([[1., 1., 1., 1.],\n",
       "       [1., 1., 1., 1.],\n",
       "       [1., 1., 1., 1.]])"
      ]
     },
     "execution_count": 49,
     "metadata": {},
     "output_type": "execute_result"
    }
   ],
   "source": [
    "np.ones([3,4])"
   ]
  },
  {
   "cell_type": "code",
   "execution_count": 50,
   "id": "092f8203-4efa-42ad-9806-e847332c5bb7",
   "metadata": {
    "tags": []
   },
   "outputs": [
    {
     "data": {
      "text/plain": [
       "array([ 1.24686254,  1.73125248, -0.83114311,  1.19402699,  0.83890135])"
      ]
     },
     "execution_count": 50,
     "metadata": {},
     "output_type": "execute_result"
    }
   ],
   "source": [
    "np.random.randn()"
   ]
  },
  {
   "cell_type": "code",
   "execution_count": 52,
   "id": "e838bbae-fa27-4a69-a32f-f2d05ea4cb8f",
   "metadata": {
    "tags": []
   },
   "outputs": [
    {
     "data": {
      "text/plain": [
       "50"
      ]
     },
     "execution_count": 52,
     "metadata": {},
     "output_type": "execute_result"
    }
   ],
   "source": [
    "np.random.randint(1,100)"
   ]
  },
  {
   "cell_type": "code",
   "execution_count": 53,
   "id": "d3d2c1b3-9b36-4118-ba90-aaa164d6806c",
   "metadata": {
    "tags": []
   },
   "outputs": [
    {
     "data": {
      "text/plain": [
       "array([87, 14, 99, 67, 31, 92, 56, 31, 53, 77])"
      ]
     },
     "execution_count": 53,
     "metadata": {},
     "output_type": "execute_result"
    }
   ],
   "source": [
    "np.random.randint(1,100,10)"
   ]
  },
  {
   "cell_type": "code",
   "execution_count": 56,
   "id": "a65ebc71-1411-4cf9-a4a3-18adab3222fb",
   "metadata": {
    "tags": []
   },
   "outputs": [],
   "source": [
    "x = np.random.randint(1,100,15)"
   ]
  },
  {
   "cell_type": "code",
   "execution_count": 62,
   "id": "8ad098bd-4e0c-4e44-be5d-4c02d4f889d6",
   "metadata": {
    "tags": []
   },
   "outputs": [],
   "source": [
    "y = np.random.randint(1,100,[4,5])"
   ]
  },
  {
   "cell_type": "code",
   "execution_count": 63,
   "id": "d0c6dba5-e3df-43fa-9d89-fff7cbcfcb33",
   "metadata": {
    "tags": []
   },
   "outputs": [
    {
     "data": {
      "text/plain": [
       "array([[ 4, 64, 33, 51,  1],\n",
       "       [98, 84, 67, 50, 36],\n",
       "       [47, 39, 34, 61,  9],\n",
       "       [ 2, 39, 25, 72, 50]])"
      ]
     },
     "execution_count": 63,
     "metadata": {},
     "output_type": "execute_result"
    }
   ],
   "source": [
    "y"
   ]
  },
  {
   "cell_type": "code",
   "execution_count": 57,
   "id": "e3679a20-e379-4d60-b0a4-a62df471ab80",
   "metadata": {
    "tags": []
   },
   "outputs": [
    {
     "data": {
      "text/plain": [
       "array([43, 17, 56, 13, 54, 17, 90,  2, 63, 72, 16, 35, 19,  2, 77])"
      ]
     },
     "execution_count": 57,
     "metadata": {},
     "output_type": "execute_result"
    }
   ],
   "source": [
    "x"
   ]
  },
  {
   "cell_type": "code",
   "execution_count": 58,
   "id": "0877754d-5336-4a6a-a2a9-3a208120c97c",
   "metadata": {
    "tags": []
   },
   "outputs": [
    {
     "data": {
      "text/plain": [
       "77"
      ]
     },
     "execution_count": 58,
     "metadata": {},
     "output_type": "execute_result"
    }
   ],
   "source": [
    "x[-1]"
   ]
  },
  {
   "cell_type": "code",
   "execution_count": 59,
   "id": "7dcfc887-c8e5-4b61-9bdc-cb603e2d2d36",
   "metadata": {
    "tags": []
   },
   "outputs": [
    {
     "data": {
      "text/plain": [
       "17"
      ]
     },
     "execution_count": 59,
     "metadata": {},
     "output_type": "execute_result"
    }
   ],
   "source": [
    "x[5]"
   ]
  },
  {
   "cell_type": "code",
   "execution_count": 60,
   "id": "25a7df87-cbee-49e1-a646-64aafb261334",
   "metadata": {
    "tags": []
   },
   "outputs": [
    {
     "data": {
      "text/plain": [
       "array([56, 13, 54, 17, 90,  2, 63])"
      ]
     },
     "execution_count": 60,
     "metadata": {},
     "output_type": "execute_result"
    }
   ],
   "source": [
    "x[2:9]"
   ]
  },
  {
   "cell_type": "code",
   "execution_count": 65,
   "id": "5c7709c8-1dcd-4b84-a451-af9e3e23b0f5",
   "metadata": {
    "tags": []
   },
   "outputs": [
    {
     "data": {
      "text/plain": [
       "array([[ 4, 64, 33, 51,  1],\n",
       "       [98, 84, 67, 50, 36],\n",
       "       [47, 39, 34, 61,  9],\n",
       "       [ 2, 39, 25, 72, 50]])"
      ]
     },
     "execution_count": 65,
     "metadata": {},
     "output_type": "execute_result"
    }
   ],
   "source": [
    "y"
   ]
  },
  {
   "cell_type": "code",
   "execution_count": 68,
   "id": "beef846e-788b-40fa-b85b-c41da0da0914",
   "metadata": {
    "tags": []
   },
   "outputs": [
    {
     "data": {
      "text/plain": [
       "array([[84, 50],\n",
       "       [39, 72]])"
      ]
     },
     "execution_count": 68,
     "metadata": {},
     "output_type": "execute_result"
    }
   ],
   "source": [
    "y[1:5:2,1:5:2]"
   ]
  }
 ],
 "metadata": {
  "kernelspec": {
   "display_name": "Python 3 (ipykernel)",
   "language": "python",
   "name": "python3"
  },
  "language_info": {
   "codemirror_mode": {
    "name": "ipython",
    "version": 3
   },
   "file_extension": ".py",
   "mimetype": "text/x-python",
   "name": "python",
   "nbconvert_exporter": "python",
   "pygments_lexer": "ipython3",
   "version": "3.11.5"
  }
 },
 "nbformat": 4,
 "nbformat_minor": 5
}
