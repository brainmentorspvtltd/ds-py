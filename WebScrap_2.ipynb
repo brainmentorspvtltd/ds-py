{
 "cells": [
  {
   "cell_type": "code",
   "execution_count": 2,
   "id": "c03a60bd-beca-4a30-987d-379aed04889f",
   "metadata": {
    "tags": []
   },
   "outputs": [],
   "source": [
    "import urllib.request as url\n",
    "import bs4"
   ]
  },
  {
   "cell_type": "code",
   "execution_count": 3,
   "id": "7208c32e-b57b-46c5-83b3-0a5b12b4fbf2",
   "metadata": {
    "tags": []
   },
   "outputs": [],
   "source": [
    "path = \"https://www.flipkart.com/search?q=iphone+15\"\n",
    "response = url.urlopen(path)"
   ]
  },
  {
   "cell_type": "code",
   "execution_count": 4,
   "id": "4010382f-6ad1-4e2c-8738-561701762e0b",
   "metadata": {
    "tags": []
   },
   "outputs": [],
   "source": [
    "source_code = bs4.BeautifulSoup(response)"
   ]
  },
  {
   "cell_type": "code",
   "execution_count": 6,
   "id": "cb295eef-1900-4db8-a782-edb548a9c2f4",
   "metadata": {
    "tags": []
   },
   "outputs": [],
   "source": [
    "title = source_code.find('div',attrs = {'class' : '_4rR01T'})"
   ]
  },
  {
   "cell_type": "code",
   "execution_count": 7,
   "id": "bc07e675-1239-4bd1-8a1f-21e7b18c7f5c",
   "metadata": {
    "tags": []
   },
   "outputs": [
    {
     "data": {
      "text/plain": [
       "<div class=\"_4rR01T\">Apple iPhone 15 (Blue, 128 GB)</div>"
      ]
     },
     "execution_count": 7,
     "metadata": {},
     "output_type": "execute_result"
    }
   ],
   "source": [
    "title"
   ]
  },
  {
   "cell_type": "code",
   "execution_count": 8,
   "id": "d8822fea-c389-4b8e-a255-0d9ff5a1d457",
   "metadata": {
    "tags": []
   },
   "outputs": [
    {
     "data": {
      "text/plain": [
       "'Apple iPhone 15 (Blue, 128 GB)'"
      ]
     },
     "execution_count": 8,
     "metadata": {},
     "output_type": "execute_result"
    }
   ],
   "source": [
    "title.text"
   ]
  },
  {
   "cell_type": "code",
   "execution_count": 9,
   "id": "ea5ba4b2-e9c9-4660-81d6-90a54c105ee5",
   "metadata": {
    "tags": []
   },
   "outputs": [],
   "source": [
    "price = source_code.find('div',attrs = {'class' : '_30jeq3 _1_WHN1'})"
   ]
  },
  {
   "cell_type": "code",
   "execution_count": 10,
   "id": "117a6810-fc9e-48d9-8f59-0d0c1bd48a87",
   "metadata": {
    "tags": []
   },
   "outputs": [
    {
     "data": {
      "text/plain": [
       "<div class=\"_30jeq3 _1_WHN1\">₹72,999</div>"
      ]
     },
     "execution_count": 10,
     "metadata": {},
     "output_type": "execute_result"
    }
   ],
   "source": [
    "price"
   ]
  },
  {
   "cell_type": "code",
   "execution_count": 11,
   "id": "ed541254-632a-4802-9c5e-3dd6aed51e0c",
   "metadata": {
    "tags": []
   },
   "outputs": [
    {
     "data": {
      "text/plain": [
       "'₹72,999'"
      ]
     },
     "execution_count": 11,
     "metadata": {},
     "output_type": "execute_result"
    }
   ],
   "source": [
    "price.text"
   ]
  },
  {
   "cell_type": "code",
   "execution_count": 12,
   "id": "cfce9b03-ab23-47f1-a008-5e9614035522",
   "metadata": {
    "tags": []
   },
   "outputs": [],
   "source": [
    "titleList = source_code.find_all('div',attrs = {'class' : '_4rR01T'})"
   ]
  },
  {
   "cell_type": "code",
   "execution_count": 13,
   "id": "fc69e967-8d5e-4440-afda-81bee6499ca9",
   "metadata": {
    "tags": []
   },
   "outputs": [
    {
     "data": {
      "text/plain": [
       "[<div class=\"_4rR01T\">Apple iPhone 15 (Blue, 128 GB)</div>,\n",
       " <div class=\"_4rR01T\">Apple iPhone 15 (Black, 128 GB)</div>,\n",
       " <div class=\"_4rR01T\">Apple iPhone 15 (Pink, 128 GB)</div>,\n",
       " <div class=\"_4rR01T\">Apple iPhone 15 Plus (Black, 128 GB)</div>,\n",
       " <div class=\"_4rR01T\">Apple iPhone 15 (Green, 128 GB)</div>,\n",
       " <div class=\"_4rR01T\">Apple iPhone 15 Plus (Blue, 128 GB)</div>,\n",
       " <div class=\"_4rR01T\">Apple iPhone 15 (Black, 256 GB)</div>,\n",
       " <div class=\"_4rR01T\">Apple iPhone 15 (Blue, 256 GB)</div>,\n",
       " <div class=\"_4rR01T\">Apple iPhone 15 Plus (Green, 128 GB)</div>,\n",
       " <div class=\"_4rR01T\">Apple iPhone 15 Pro (Natural Titanium, 128 GB)</div>,\n",
       " <div class=\"_4rR01T\">Apple iPhone 15 Plus (Pink, 128 GB)</div>,\n",
       " <div class=\"_4rR01T\">Apple iPhone 15 (Yellow, 128 GB)</div>,\n",
       " <div class=\"_4rR01T\">Apple iPhone 15 Pro Max (White Titanium, 256 GB)</div>,\n",
       " <div class=\"_4rR01T\">Apple iPhone 15 Plus (Yellow, 128 GB)</div>,\n",
       " <div class=\"_4rR01T\">Apple iPhone 15 Pro (White Titanium, 128 GB)</div>,\n",
       " <div class=\"_4rR01T\">Apple iPhone 15 Pro Max (Natural Titanium, 256 GB)</div>,\n",
       " <div class=\"_4rR01T\">Apple iPhone 15 Pro Max (Blue Titanium, 256 GB)</div>,\n",
       " <div class=\"_4rR01T\">Apple iPhone 15 Pro (Blue Titanium, 256 GB)</div>,\n",
       " <div class=\"_4rR01T\">Apple iPhone 15 (Green, 256 GB)</div>,\n",
       " <div class=\"_4rR01T\">Apple iPhone 15 Pro (Blue Titanium, 128 GB)</div>,\n",
       " <div class=\"_4rR01T\">Apple iPhone 15 Plus (Yellow, 256 GB)</div>,\n",
       " <div class=\"_4rR01T\">Apple iPhone 15 Pro (Black Titanium, 1 TB)</div>,\n",
       " <div class=\"_4rR01T\">Apple iPhone 15 Pro (White Titanium, 256 GB)</div>,\n",
       " <div class=\"_4rR01T\">Apple iPhone 15 Pro (Black Titanium, 128 GB)</div>]"
      ]
     },
     "execution_count": 13,
     "metadata": {},
     "output_type": "execute_result"
    }
   ],
   "source": [
    "titleList"
   ]
  },
  {
   "cell_type": "code",
   "execution_count": 17,
   "id": "270bbc05-9e78-4740-ad1f-f46c7183320b",
   "metadata": {
    "tags": []
   },
   "outputs": [
    {
     "data": {
      "text/plain": [
       "24"
      ]
     },
     "execution_count": 17,
     "metadata": {},
     "output_type": "execute_result"
    }
   ],
   "source": [
    "len(titleList)"
   ]
  },
  {
   "cell_type": "code",
   "execution_count": 16,
   "id": "6ced5a2c-b818-413f-9664-930c681cbaa0",
   "metadata": {
    "tags": []
   },
   "outputs": [
    {
     "name": "stdout",
     "output_type": "stream",
     "text": [
      "Apple iPhone 15 (Blue, 128 GB)\n",
      "Apple iPhone 15 (Black, 128 GB)\n",
      "Apple iPhone 15 (Pink, 128 GB)\n",
      "Apple iPhone 15 Plus (Black, 128 GB)\n",
      "Apple iPhone 15 (Green, 128 GB)\n",
      "Apple iPhone 15 Plus (Blue, 128 GB)\n",
      "Apple iPhone 15 (Black, 256 GB)\n",
      "Apple iPhone 15 (Blue, 256 GB)\n",
      "Apple iPhone 15 Plus (Green, 128 GB)\n",
      "Apple iPhone 15 Pro (Natural Titanium, 128 GB)\n",
      "Apple iPhone 15 Plus (Pink, 128 GB)\n",
      "Apple iPhone 15 (Yellow, 128 GB)\n",
      "Apple iPhone 15 Pro Max (White Titanium, 256 GB)\n",
      "Apple iPhone 15 Plus (Yellow, 128 GB)\n",
      "Apple iPhone 15 Pro (White Titanium, 128 GB)\n",
      "Apple iPhone 15 Pro Max (Natural Titanium, 256 GB)\n",
      "Apple iPhone 15 Pro Max (Blue Titanium, 256 GB)\n",
      "Apple iPhone 15 Pro (Blue Titanium, 256 GB)\n",
      "Apple iPhone 15 (Green, 256 GB)\n",
      "Apple iPhone 15 Pro (Blue Titanium, 128 GB)\n",
      "Apple iPhone 15 Plus (Yellow, 256 GB)\n",
      "Apple iPhone 15 Pro (Black Titanium, 1 TB)\n",
      "Apple iPhone 15 Pro (White Titanium, 256 GB)\n",
      "Apple iPhone 15 Pro (Black Titanium, 128 GB)\n"
     ]
    }
   ],
   "source": [
    "for i in range(len(titleList)):\n",
    "    print(titleList[i].text)"
   ]
  },
  {
   "cell_type": "code",
   "execution_count": 19,
   "id": "924ec709-5723-4669-bb98-eab0475ea2e9",
   "metadata": {
    "tags": []
   },
   "outputs": [],
   "source": [
    "priceList = source_code.find_all('div',attrs = {'class' : '_30jeq3 _1_WHN1'})"
   ]
  },
  {
   "cell_type": "code",
   "execution_count": 20,
   "id": "00370b78-9fec-48cc-97c3-144e4a97f0b1",
   "metadata": {
    "tags": []
   },
   "outputs": [
    {
     "name": "stdout",
     "output_type": "stream",
     "text": [
      "₹72,999\n",
      "₹72,999\n",
      "₹72,999\n",
      "₹82,990\n",
      "₹72,999\n",
      "₹82,990\n",
      "₹82,999\n",
      "₹82,999\n",
      "₹82,990\n",
      "₹1,27,990\n",
      "₹82,990\n",
      "₹72,999\n",
      "₹1,48,900\n",
      "₹82,990\n",
      "₹1,27,990\n",
      "₹1,48,900\n",
      "₹1,48,900\n",
      "₹1,37,990\n",
      "₹82,999\n",
      "₹1,27,990\n",
      "₹92,999\n",
      "₹1,77,990\n",
      "₹1,37,990\n",
      "₹1,27,990\n"
     ]
    }
   ],
   "source": [
    "for i in range(len(priceList)):\n",
    "    print(priceList[i].text)"
   ]
  },
  {
   "cell_type": "code",
   "execution_count": 22,
   "id": "a7ff7b7e-7199-4d74-9d70-f6092e49b4d9",
   "metadata": {
    "tags": []
   },
   "outputs": [
    {
     "name": "stdout",
     "output_type": "stream",
     "text": [
      "Apple iPhone 15 (Blue, 128 GB) --> ₹72,999\n",
      "Apple iPhone 15 (Black, 128 GB) --> ₹72,999\n",
      "Apple iPhone 15 (Pink, 128 GB) --> ₹72,999\n",
      "Apple iPhone 15 Plus (Black, 128 GB) --> ₹82,990\n",
      "Apple iPhone 15 (Green, 128 GB) --> ₹72,999\n",
      "Apple iPhone 15 Plus (Blue, 128 GB) --> ₹82,990\n",
      "Apple iPhone 15 (Black, 256 GB) --> ₹82,999\n",
      "Apple iPhone 15 (Blue, 256 GB) --> ₹82,999\n",
      "Apple iPhone 15 Plus (Green, 128 GB) --> ₹82,990\n",
      "Apple iPhone 15 Pro (Natural Titanium, 128 GB) --> ₹1,27,990\n",
      "Apple iPhone 15 Plus (Pink, 128 GB) --> ₹82,990\n",
      "Apple iPhone 15 (Yellow, 128 GB) --> ₹72,999\n",
      "Apple iPhone 15 Pro Max (White Titanium, 256 GB) --> ₹1,48,900\n",
      "Apple iPhone 15 Plus (Yellow, 128 GB) --> ₹82,990\n",
      "Apple iPhone 15 Pro (White Titanium, 128 GB) --> ₹1,27,990\n",
      "Apple iPhone 15 Pro Max (Natural Titanium, 256 GB) --> ₹1,48,900\n",
      "Apple iPhone 15 Pro Max (Blue Titanium, 256 GB) --> ₹1,48,900\n",
      "Apple iPhone 15 Pro (Blue Titanium, 256 GB) --> ₹1,37,990\n",
      "Apple iPhone 15 (Green, 256 GB) --> ₹82,999\n",
      "Apple iPhone 15 Pro (Blue Titanium, 128 GB) --> ₹1,27,990\n",
      "Apple iPhone 15 Plus (Yellow, 256 GB) --> ₹92,999\n",
      "Apple iPhone 15 Pro (Black Titanium, 1 TB) --> ₹1,77,990\n",
      "Apple iPhone 15 Pro (White Titanium, 256 GB) --> ₹1,37,990\n",
      "Apple iPhone 15 Pro (Black Titanium, 128 GB) --> ₹1,27,990\n"
     ]
    }
   ],
   "source": [
    "for i in range(len(titleList)):\n",
    "    print(titleList[i].text,\"-->\",priceList[i].text)"
   ]
  },
  {
   "cell_type": "code",
   "execution_count": 33,
   "id": "7b0f9905-8f46-440f-9244-e0f61125bf86",
   "metadata": {
    "tags": []
   },
   "outputs": [
    {
     "name": "stdout",
     "output_type": "stream",
     "text": [
      "Page Number is: 1\n",
      "{'title': ['Apple iPhone 15 (Black, 128 GB)', 'Apple iPhone 15 (Blue, 128 GB)', 'Apple iPhone 15 (Pink, 128 GB)', 'Apple iPhone 15 (Green, 128 GB)', 'Apple iPhone 15 Plus (Black, 128 GB)', 'Apple iPhone 15 Plus (Blue, 128 GB)', 'Apple iPhone 15 Plus (Pink, 128 GB)', 'Apple iPhone 15 Pro (Natural Titanium, 128 GB)', 'Apple iPhone 15 Plus (Green, 128 GB)', 'Apple iPhone 15 (Yellow, 128 GB)', 'Apple iPhone 15 Pro Max (White Titanium, 256 GB)', 'Apple iPhone 15 Pro Max (Natural Titanium, 256 GB)', 'Apple iPhone 15 Pro (Black Titanium, 256 GB)', 'Apple iPhone 15 Pro (White Titanium, 128 GB)', 'Apple iPhone 15 (Yellow, 256 GB)', 'Apple iPhone 15 Plus (Yellow, 128 GB)', 'Apple iPhone 15 Pro Max (Black Titanium, 256 GB)', 'Apple iPhone 15 Pro (White Titanium, 256 GB)', 'Apple iPhone 15 Pro Max (Blue Titanium, 256 GB)', 'Apple iPhone 15 Pro (Blue Titanium, 256 GB)', 'Apple iPhone 15 Pro (Black Titanium, 512 GB)', 'Apple iPhone 15 Pro (Black Titanium, 128 GB)', 'Apple iPhone 15 Pro (Black Titanium, 1 TB)', 'Apple iPhone 15 Pro (White Titanium, 512 GB)'], 'price': ['₹65,999', '₹65,999', '₹65,999', '₹65,999', '₹76,999', '₹76,999', '₹76,999', '₹1,27,990', '₹76,999', '₹65,999', '₹1,48,900', '₹1,48,900', '₹1,37,990', '₹1,27,990', '₹75,999', '₹76,999', '₹1,48,900', '₹1,37,990', '₹1,48,900', '₹1,37,990', '₹1,58,990', '₹1,27,990', '₹1,77,990', '₹1,58,990']}\n",
      "Page Number is: 2\n",
      "{'title': ['Apple iPhone 15 (Black, 128 GB)', 'Apple iPhone 15 (Blue, 128 GB)', 'Apple iPhone 15 (Pink, 128 GB)', 'Apple iPhone 15 (Green, 128 GB)', 'Apple iPhone 15 Plus (Black, 128 GB)', 'Apple iPhone 15 Plus (Blue, 128 GB)', 'Apple iPhone 15 Plus (Pink, 128 GB)', 'Apple iPhone 15 Pro (Natural Titanium, 128 GB)', 'Apple iPhone 15 Plus (Green, 128 GB)', 'Apple iPhone 15 (Yellow, 128 GB)', 'Apple iPhone 15 Pro Max (White Titanium, 256 GB)', 'Apple iPhone 15 Pro Max (Natural Titanium, 256 GB)', 'Apple iPhone 15 Pro (Black Titanium, 256 GB)', 'Apple iPhone 15 Pro (White Titanium, 128 GB)', 'Apple iPhone 15 (Yellow, 256 GB)', 'Apple iPhone 15 Plus (Yellow, 128 GB)', 'Apple iPhone 15 Pro Max (Black Titanium, 256 GB)', 'Apple iPhone 15 Pro (White Titanium, 256 GB)', 'Apple iPhone 15 Pro Max (Blue Titanium, 256 GB)', 'Apple iPhone 15 Pro (Blue Titanium, 256 GB)', 'Apple iPhone 15 Pro (Black Titanium, 512 GB)', 'Apple iPhone 15 Pro (Black Titanium, 128 GB)', 'Apple iPhone 15 Pro (Black Titanium, 1 TB)', 'Apple iPhone 15 Pro (White Titanium, 512 GB)', 'Apple iPhone 15 Pro (Natural Titanium, 256 GB)', 'Apple iPhone 15 Pro (Black Titanium, 512 GB)', 'Apple iPhone 15 Pro (Natural Titanium, 512 GB)', 'Apple iPhone 15 Pro (Blue Titanium, 1 TB)', 'Apple iPhone 15 Pro (White Titanium, 512 GB)', 'Apple iPhone 15 (Blue, 512 GB)', 'Apple iPhone 15 Pro (White Titanium, 1 TB)', 'Apple iPhone 15 Pro (Blue Titanium, 512 GB)', 'Apple iPhone 15 Plus (Blue, 512 GB)', 'Apple iPhone 15 Pro (Natural Titanium, 1 TB)', 'Apple iPhone 15 (Black, 512 GB)', 'Apple iPhone 15 (Green, 512 GB)', 'Apple iPhone 15 (Pink, 512 GB)', 'Apple iPhone 15 (Blue, 256 GB)', 'Apple iPhone 15 (Green, 256 GB)', 'Apple iPhone 15 (Pink, 256 GB)', 'Apple iPhone 15 Plus (Green, 256 GB)', 'Apple iPhone 15 Plus (Black, 256 GB)', 'Apple iPhone 15 Plus (Pink, 256 GB)', 'Apple iPhone 15 Plus (Black, 512 GB)', 'Apple iPhone 15 Plus (Blue, 256 GB)', 'Apple iPhone 15 (Yellow, 512 GB)', 'Apple iPhone 15 Pro Max (Black Titanium, 512 GB)', 'Apple iPhone 15 Plus (Yellow, 256 GB)'], 'price': ['₹65,999', '₹65,999', '₹65,999', '₹65,999', '₹76,999', '₹76,999', '₹76,999', '₹1,27,990', '₹76,999', '₹65,999', '₹1,48,900', '₹1,48,900', '₹1,37,990', '₹1,27,990', '₹75,999', '₹76,999', '₹1,48,900', '₹1,37,990', '₹1,48,900', '₹1,37,990', '₹1,58,990', '₹1,27,990', '₹1,77,990', '₹1,58,990', '₹1,37,990', '₹1,58,990', '₹1,58,990', '₹1,77,990', '₹1,58,990', '₹95,999', '₹1,77,990', '₹1,58,990', '₹1,06,999', '₹1,77,990', '₹95,999', '₹95,999', '₹95,999', '₹75,999', '₹75,999', '₹75,999', '₹86,999', '₹86,999', '₹86,999', '₹1,06,999', '₹86,999', '₹95,999', '₹1,68,900', '₹86,999']}\n"
     ]
    }
   ],
   "source": [
    "data = {'title':[] , 'price':[]}\n",
    "for i in range(1,3):\n",
    "    path1 = f\"https://www.flipkart.com/search?q=iphone+15&sid=tyy%2C4io&as=on&as-show=on&otracker=AS_QueryStore_HistoryAutoSuggest_1_6_na_na_na&otracker1=AS_QueryStore_HistoryAutoSuggest_1_6_na_na_na&as-pos=1&as-type=HISTORY&suggestionId=iphone+15%7CMobiles&requestId=adbffa93-0d75-4acb-9666-1109a3063713&as-backfill=on&page={i}\"\n",
    "    response = url.urlopen(path1)\n",
    "    source_code = bs4.BeautifulSoup(response)\n",
    "    titleList = source_code.find_all('div',attrs = {'class':'_4rR01T'})\n",
    "    priceList = source_code.find_all('div',attrs = {'class' :'_30jeq3 _1_WHN1'})\n",
    "    print(\"Page Number is:\",i)\n",
    "    for j in range(len(titleList)):\n",
    "        data['title'].append(titleList[j].text)\n",
    "        data['price'].append(priceList[j].text)\n",
    "    print(data)\n",
    "        "
   ]
  },
  {
   "cell_type": "code",
   "execution_count": null,
   "id": "b7598c88-5e20-4d30-8b61-297f0e8958bc",
   "metadata": {},
   "outputs": [],
   "source": []
  }
 ],
 "metadata": {
  "kernelspec": {
   "display_name": "Python 3 (ipykernel)",
   "language": "python",
   "name": "python3"
  },
  "language_info": {
   "codemirror_mode": {
    "name": "ipython",
    "version": 3
   },
   "file_extension": ".py",
   "mimetype": "text/x-python",
   "name": "python",
   "nbconvert_exporter": "python",
   "pygments_lexer": "ipython3",
   "version": "3.11.5"
  }
 },
 "nbformat": 4,
 "nbformat_minor": 5
}
