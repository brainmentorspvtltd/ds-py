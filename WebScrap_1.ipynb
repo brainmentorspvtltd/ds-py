{
 "cells": [
  {
   "cell_type": "code",
   "execution_count": 1,
   "id": "acc39d9a-d021-48d8-ab7c-d0d54aca6511",
   "metadata": {
    "tags": []
   },
   "outputs": [],
   "source": [
    "import urllib.request as url\n",
    "import bs4"
   ]
  },
  {
   "cell_type": "code",
   "execution_count": 3,
   "id": "91f570db-32e5-4667-9367-b15d46cac6d8",
   "metadata": {
    "tags": []
   },
   "outputs": [],
   "source": [
    "path = \"https://www.flipkart.com/search?q=iphone+15\"\n",
    "response = url.urlopen(path)"
   ]
  },
  {
   "cell_type": "code",
   "execution_count": 4,
   "id": "696306af-c157-4657-ba13-6dfb1d0c61c0",
   "metadata": {
    "tags": []
   },
   "outputs": [],
   "source": [
    "sourceCode = bs4.BeautifulSoup(response)"
   ]
  },
  {
   "cell_type": "code",
   "execution_count": 6,
   "id": "6a44b5ae-7ee1-40be-a8ce-b16173af9077",
   "metadata": {
    "tags": []
   },
   "outputs": [
    {
     "data": {
      "text/plain": [
       "<div class=\"_4rR01T\">Apple iPhone 15 (Blue, 128 GB)</div>"
      ]
     },
     "execution_count": 6,
     "metadata": {},
     "output_type": "execute_result"
    }
   ],
   "source": [
    "sourceCode.find('div',attrs = {'class':'_4rR01T'})"
   ]
  },
  {
   "cell_type": "code",
   "execution_count": 7,
   "id": "28fb7de4-e22b-4bfe-b151-46b8a46f1efb",
   "metadata": {
    "tags": []
   },
   "outputs": [],
   "source": [
    "title = sourceCode.find('div',attrs = {'class':'_4rR01T'})"
   ]
  },
  {
   "cell_type": "code",
   "execution_count": 8,
   "id": "3f0a7ff7-f7e8-4b36-9a2f-0a6eccac8205",
   "metadata": {
    "tags": []
   },
   "outputs": [
    {
     "data": {
      "text/plain": [
       "'Apple iPhone 15 (Blue, 128 GB)'"
      ]
     },
     "execution_count": 8,
     "metadata": {},
     "output_type": "execute_result"
    }
   ],
   "source": [
    "title.text"
   ]
  },
  {
   "cell_type": "code",
   "execution_count": 12,
   "id": "6d244488-457d-4824-8c3a-eb15a955b75a",
   "metadata": {
    "tags": []
   },
   "outputs": [],
   "source": [
    "price = sourceCode.find('div',attrs = {'class':'_30jeq3 _1_WHN1'})"
   ]
  },
  {
   "cell_type": "code",
   "execution_count": 13,
   "id": "ad197d8e-71b3-49c3-a519-db175144a7f6",
   "metadata": {
    "tags": []
   },
   "outputs": [
    {
     "data": {
      "text/plain": [
       "<div class=\"_30jeq3 _1_WHN1\">₹72,999</div>"
      ]
     },
     "execution_count": 13,
     "metadata": {},
     "output_type": "execute_result"
    }
   ],
   "source": [
    "price"
   ]
  },
  {
   "cell_type": "code",
   "execution_count": 14,
   "id": "41d0b044-0625-4c28-8c7b-cfb603ae07cd",
   "metadata": {
    "tags": []
   },
   "outputs": [
    {
     "data": {
      "text/plain": [
       "'₹72,999'"
      ]
     },
     "execution_count": 14,
     "metadata": {},
     "output_type": "execute_result"
    }
   ],
   "source": [
    "price.text"
   ]
  },
  {
   "cell_type": "code",
   "execution_count": 16,
   "id": "49d4d82c-5b6f-435b-a9b7-ea529ba8ef8a",
   "metadata": {
    "tags": []
   },
   "outputs": [],
   "source": [
    "titleList = sourceCode.find_all('div',attrs = {'class':'_4rR01T'})\n",
    "priceList = sourceCode.find_all('div',attrs = {'class':'_30jeq3 _1_WHN1'})"
   ]
  },
  {
   "cell_type": "code",
   "execution_count": 17,
   "id": "3f9e5449-f566-436a-9b17-9ba22aa82e33",
   "metadata": {
    "tags": []
   },
   "outputs": [
    {
     "data": {
      "text/plain": [
       "[<div class=\"_4rR01T\">Apple iPhone 15 (Blue, 128 GB)</div>,\n",
       " <div class=\"_4rR01T\">Apple iPhone 15 (Black, 128 GB)</div>,\n",
       " <div class=\"_4rR01T\">Apple iPhone 15 Plus (Black, 128 GB)</div>,\n",
       " <div class=\"_4rR01T\">Apple iPhone 15 (Pink, 128 GB)</div>,\n",
       " <div class=\"_4rR01T\">Apple iPhone 15 (Green, 128 GB)</div>,\n",
       " <div class=\"_4rR01T\">Apple iPhone 15 Plus (Blue, 128 GB)</div>,\n",
       " <div class=\"_4rR01T\">Apple iPhone 15 (Blue, 256 GB)</div>,\n",
       " <div class=\"_4rR01T\">Apple iPhone 15 (Black, 256 GB)</div>,\n",
       " <div class=\"_4rR01T\">Apple iPhone 15 Plus (Pink, 128 GB)</div>,\n",
       " <div class=\"_4rR01T\">Apple iPhone 15 Plus (Green, 128 GB)</div>,\n",
       " <div class=\"_4rR01T\">Apple iPhone 15 (Yellow, 128 GB)</div>,\n",
       " <div class=\"_4rR01T\">Apple iPhone 15 Plus (Blue, 256 GB)</div>,\n",
       " <div class=\"_4rR01T\">Apple iPhone 15 Pro (Natural Titanium, 128 GB)</div>,\n",
       " <div class=\"_4rR01T\">Apple iPhone 15 Pro Max (White Titanium, 256 GB)</div>,\n",
       " <div class=\"_4rR01T\">Apple iPhone 15 Pro (White Titanium, 128 GB)</div>,\n",
       " <div class=\"_4rR01T\">Apple iPhone 15 Pro Max (Blue Titanium, 256 GB)</div>,\n",
       " <div class=\"_4rR01T\">Apple iPhone 15 Plus (Yellow, 128 GB)</div>,\n",
       " <div class=\"_4rR01T\">Apple iPhone 15 Plus (Green, 256 GB)</div>,\n",
       " <div class=\"_4rR01T\">Apple iPhone 15 Pro Max (Black Titanium, 256 GB)</div>,\n",
       " <div class=\"_4rR01T\">Apple iPhone 15 (Green, 256 GB)</div>,\n",
       " <div class=\"_4rR01T\">Apple iPhone 15 Plus (Yellow, 256 GB)</div>,\n",
       " <div class=\"_4rR01T\">Apple iPhone 15 Pro (White Titanium, 256 GB)</div>,\n",
       " <div class=\"_4rR01T\">Apple iPhone 15 Pro (Blue Titanium, 1 TB)</div>,\n",
       " <div class=\"_4rR01T\">Apple iPhone 15 Pro (Blue Titanium, 256 GB)</div>]"
      ]
     },
     "execution_count": 17,
     "metadata": {},
     "output_type": "execute_result"
    }
   ],
   "source": [
    "titleList"
   ]
  },
  {
   "cell_type": "code",
   "execution_count": null,
   "id": "7c6c11ee-2814-46ad-a1a3-76892ffd4d5b",
   "metadata": {},
   "outputs": [],
   "source": []
  }
 ],
 "metadata": {
  "kernelspec": {
   "display_name": "Python 3 (ipykernel)",
   "language": "python",
   "name": "python3"
  },
  "language_info": {
   "codemirror_mode": {
    "name": "ipython",
    "version": 3
   },
   "file_extension": ".py",
   "mimetype": "text/x-python",
   "name": "python",
   "nbconvert_exporter": "python",
   "pygments_lexer": "ipython3",
   "version": "3.11.5"
  }
 },
 "nbformat": 4,
 "nbformat_minor": 5
}
